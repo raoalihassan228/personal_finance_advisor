{
 "cells": [
  {
   "cell_type": "markdown",
   "metadata": {},
   "source": [
    "# **Personal Finance Advisor**\n",
    "Develop a system that offers personalized financial advice using rules for budget management and investment suggestions.\n",
    "# Get started with the Gemini API: Python\n",
    "\n"
   ]
  },
  {
   "cell_type": "code",
   "execution_count": null,
   "metadata": {},
   "outputs": [],
   "source": [
    "# installation of the package\n",
    "!pip install -q -U google-generativeai"
   ]
  },
  {
   "cell_type": "code",
   "execution_count": null,
   "metadata": {},
   "outputs": [],
   "source": [
    "import textwrap\n",
    "import google.generativeai as genai\n",
    "\n",
    "from IPython.display import display\n",
    "from IPython.display import Markdown\n",
    "\n",
    "\n",
    "def to_markdown(text)->Markdown:\n",
    "    text : str = text.replace(\"•\", \"  *\")\n",
    "    return Markdown(textwrap.indent(text, \"> \", predicate=lambda _: True))"
   ]
  },
  {
   "cell_type": "code",
   "execution_count": null,
   "metadata": {},
   "outputs": [],
   "source": [
    "# Used to securely store your API key\n",
    "from google.colab import userdata"
   ]
  },
  {
   "cell_type": "markdown",
   "metadata": {},
   "source": [
    "### Setup your API key\n",
    "\n",
    "Before you can use the Gemini API, you must first obtain an API key. If you don't already have one, create a key with one click in Google AI Studio.\n",
    "\n",
    "<a class=\"button button-primary\" href=\"https://makersuite.google.com/app/apikey\" target=\"_blank\" rel=\"noopener noreferrer\">Get an API key</a>\n",
    "\n",
    "Note that depending on where you are located, you might have to [enable billing](https://ai.google.dev/gemini-api/docs/billing#enable-cloud-billing) since the free tier is not available in [EEA (including EU), the UK, and CH](https://ai.google.dev/gemini-api/docs/billing#is-Gemini-free-in-EEA-UK-CH)"
   ]
  },
  {
   "cell_type": "markdown",
   "metadata": {},
   "source": [
    "In Colab, add the key to the secrets manager under the \"🔑\" in the left panel. Give it the name `GEMINI_API_KEY`."
   ]
  },
  {
   "cell_type": "markdown",
   "metadata": {},
   "source": [
    "Once you have the API key, pass it to the SDK. You can do this in two ways:\n",
    "\n",
    "* Put the key in the `GEMINI_API_KEY` environment variable (the SDK will automatically pick it up from there).\n",
    "* Pass the key to `genai.configure(api_key=...)`"
   ]
  },
  {
   "cell_type": "code",
   "execution_count": null,
   "metadata": {},
   "outputs": [],
   "source": [
    "# Or use `os.getenv('GEMINI_API_KEY')` to fetch an environment variable.\n",
    "GEMINI_API_KEY : str = userdata.get(\"GEMINI_API_KEY\")\n",
    "\n",
    "genai.configure(api_key=GEMINI_API_KEY)"
   ]
  },
  {
   "cell_type": "markdown",
   "metadata": {},
   "source": [
    "## List models\n",
    "\n",
    "Now you're ready to call the Gemini API. Use `list_models` to see the available Gemini models:\n",
    "\n",
    "* `gemini-1.5-flash`: optimized for multi-modal use-cases where speed and cost are important. This should be your go-to model.\n",
    "* `gemini-1.5-pro`: optimized for high intelligence tasks, the most powerful Gemini model"
   ]
  },
  {
   "cell_type": "code",
   "execution_count": null,
   "metadata": {},
   "outputs": [],
   "source": [
    "list(genai.list_models())"
   ]
  },
  {
   "cell_type": "code",
   "execution_count": null,
   "metadata": {},
   "outputs": [],
   "source": [
    "for m in genai.list_models():\n",
    "    if \"generateContent\" in m.supported_generation_methods:\n",
    "        print(m.name)"
   ]
  },
  {
   "cell_type": "markdown",
   "metadata": {},
   "source": [
    "## Generate text from text inputs\n",
    "\n",
    "Always start with the 'gemini-1.5-flash' model. It should be sufficient for most of your tasks:"
   ]
  },
  {
   "cell_type": "code",
   "execution_count": null,
   "metadata": {},
   "outputs": [],
   "source": [
    "from google.generativeai import GenerativeModel\n",
    "\n",
    "model : GenerativeModel = genai.GenerativeModel(\"gemini-1.5-flash\")"
   ]
  },
  {
   "cell_type": "code",
   "execution_count": null,
   "metadata": {},
   "outputs": [],
   "source": [
    "%%time\n",
    "from google.generativeai.types.generation_types import GenerateContentResponse\n",
    "# New Function: Handle Finance & Non-Finance Queries\n",
    "def handle_user_query(user_query: str) -> str:\n",
    "    \"\"\"\n",
    "    Process the user's query and determine the appropriate response based on its relevance to finance.\n",
    "\n",
    "    Args:\n",
    "        user_query (str): The user's input query.\n",
    "\n",
    "    Returns:\n",
    "        str: Response text from the bot.\n",
    "    \"\"\"\n",
    "    chat = model.start_chat(\n",
    "        history=[\n",
    "            {\n",
    "                \"role\": \"model\",\n",
    "                \"parts\": (\n",
    "                    \"You are a Personal Finance Assistant bot. You are designed exclusively \"\n",
    "                    \"to provide personalized financial advice, including budget management, \"\n",
    "                    \"investment suggestions, and other finance-related queries. If the user \"\n",
    "                    \"asks about topics unrelated to finance, kindly apologize and inform them \"\n",
    "                    \"that you are solely a finance assistant.\"\n",
    "                )\n",
    "            },\n",
    "        ]\n",
    "    )\n",
    "\n",
    "    response = chat.send_message(user_query)\n",
    "    return response.text"
   ]
  },
  {
   "cell_type": "code",
   "execution_count": null,
   "metadata": {},
   "outputs": [],
   "source": [
    "%%time\n",
    "finance_query = input(\"User query: \")\n",
    "advice = handle_user_query(finance_query)\n",
    "display(to_markdown(advice))\n",
    "# My monthly budget is 190000 PKR, and my expenses are higher. How can I save money?"
   ]
  },
  {
   "cell_type": "code",
   "execution_count": null,
   "metadata": {},
   "outputs": [],
   "source": [
    "# Example non-finance query\n",
    "non_finance_query = \"What is the weather today?\"\n",
    "non_finance_response = handle_user_query(non_finance_query)\n",
    "display(to_markdown(non_finance_response))"
   ]
  }
 ],
 "metadata": {
  "language_info": {
   "name": "python"
  }
 },
 "nbformat": 4,
 "nbformat_minor": 2
}
